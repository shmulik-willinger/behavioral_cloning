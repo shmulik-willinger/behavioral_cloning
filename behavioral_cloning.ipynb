{
 "cells": [
  {
   "cell_type": "code",
   "execution_count": 36,
   "metadata": {},
   "outputs": [
    {
     "name": "stdout",
     "output_type": "stream",
     "text": [
      "features Shape:  (3090, 160, 320, 3)\n",
      "lables Shape:  3090\n"
     ]
    }
   ],
   "source": [
    "import csv\n",
    "import cv2\n",
    "import numpy as np\n",
    "\n",
    "lines=[]\n",
    "with open('C:\\data\\driving_log.csv') as csvfile:\n",
    "    reader = csv.reader(csvfile)\n",
    "    for line in reader:\n",
    "        lines.append(line)\n",
    "        \n",
    "images = []\n",
    "measurments = []\n",
    "for line in lines:\n",
    "    image_center = cv2.imread(line[0])\n",
    "    image_left = cv2.imread(line[1])\n",
    "    image_right = cv2.imread(line[2])\n",
    "    images.extend([image, image_left, image_right])\n",
    "    steering = float(line[3])\n",
    "    measurments.extend([steering, steering+0.1, steering-0.1])\n",
    "    \n",
    "X_train = np.array(images)\n",
    "y_train = np.array(measurments)\n",
    "\n",
    "print(\"features Shape: \", X_train.shape)\n",
    "print(\"lables Shape: \", len(y_train))"
   ]
  },
  {
   "cell_type": "code",
   "execution_count": 37,
   "metadata": {},
   "outputs": [
    {
     "name": "stdout",
     "output_type": "stream",
     "text": [
      "augmented features Shape:  3090\n",
      "augmented lables Shape:  3090\n"
     ]
    }
   ],
   "source": [
    "#Augmentation - flip all images\n",
    "\n",
    "aug_images, aug_measurments= [], []\n",
    "for image, measurment in zip(images, measurments):\n",
    "    aug_images.append(cv2.flip(image,1))\n",
    "    aug_measurments.append(measurment*-1.0)\n",
    "    \n",
    "\n",
    "print(\"augmented features Shape: \", len(aug_images))\n",
    "print(\"augmented lables Shape: \", len(aug_measurments))"
   ]
  },
  {
   "cell_type": "code",
   "execution_count": null,
   "metadata": {},
   "outputs": [
    {
     "name": "stdout",
     "output_type": "stream",
     "text": [
      "(6180, 160, 320, 3) (6180,)\n"
     ]
    }
   ],
   "source": [
    "X_train = np.concatenate([X_train, aug_images])\n",
    "y_train = np.concatenate([y_train, aug_measurments])\n",
    "print(X_train.shape, y_train.shape)"
   ]
  },
  {
   "cell_type": "code",
   "execution_count": null,
   "metadata": {},
   "outputs": [
    {
     "name": "stderr",
     "output_type": "stream",
     "text": [
      "C:\\ProgramData\\Anaconda3\\lib\\site-packages\\keras\\models.py:846: UserWarning: The `nb_epoch` argument in `fit` has been renamed `epochs`.\n",
      "  warnings.warn('The `nb_epoch` argument in `fit` '\n"
     ]
    },
    {
     "name": "stdout",
     "output_type": "stream",
     "text": [
      "Train on 4944 samples, validate on 1236 samples\n",
      "Epoch 1/5\n",
      "4944/4944 [==============================] - 242s - loss: 0.0867 - val_loss: 0.0221\n",
      "Epoch 2/5\n",
      "4512/4944 [==========================>...] - ETA: 20s - loss: 0.0105"
     ]
    }
   ],
   "source": [
    "from keras.models import Sequential\n",
    "from keras.layers import Flatten, Dense, Lambda, Cropping2D\n",
    "from keras.layers.convolutional import Conv2D, MaxPooling2D\n",
    "\n",
    "model = Sequential()\n",
    "#normalization and mean zero\n",
    "model.add(Lambda(lambda x: x/255.0 -0.5, input_shape=(160,320,3))) \n",
    "#cropping2D layer\n",
    "model.add(Cropping2D(cropping=((70,25), (0,0)), input_shape=(160,320,3)))\n",
    "#model.add(Flatten())\n",
    "model.add(Dense(1))\n",
    "model.add(Conv2D(6, kernel_size=(5, 5), padding='valid', activation='relu'))\n",
    "model.add(MaxPooling2D())\n",
    "model.add(Conv2D(6, kernel_size=(5, 5), padding='valid', activation='relu'))\n",
    "model.add(MaxPooling2D())\n",
    "model.add(Flatten())\n",
    "model.add(Dense(120))\n",
    "model.add(Dense(84))\n",
    "model.add(Dense(1))\n",
    "\n",
    "model.compile(loss='mse', optimizer='adam')\n",
    "model.fit(X_train, y_train, validation_split=0.2, shuffle=True, nb_epoch=5)\n",
    "\n",
    "model.save('model.h5')"
   ]
  },
  {
   "cell_type": "code",
   "execution_count": null,
   "metadata": {
    "collapsed": true
   },
   "outputs": [],
   "source": []
  }
 ],
 "metadata": {
  "kernelspec": {
   "display_name": "Python 3",
   "language": "python",
   "name": "python3"
  },
  "language_info": {
   "codemirror_mode": {
    "name": "ipython",
    "version": 3
   },
   "file_extension": ".py",
   "mimetype": "text/x-python",
   "name": "python",
   "nbconvert_exporter": "python",
   "pygments_lexer": "ipython3",
   "version": "3.6.2"
  }
 },
 "nbformat": 4,
 "nbformat_minor": 2
}
